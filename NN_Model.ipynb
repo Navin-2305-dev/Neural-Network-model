{
  "cells": [
    {
      "cell_type": "markdown",
      "source": [
        "# Building a Neural Netwwork using Numpy and Pandas"
      ],
      "metadata": {
        "id": "3N3pVP6ELBGr"
      }
    },
    {
      "cell_type": "code",
      "source": [
        "# Import Libraries\n",
        "import numpy as np\n",
        "import pandas as pd\n",
        "import matplotlib.pyplot as plt\n"
      ],
      "metadata": {
        "id": "CnR7t00ILNtn"
      },
      "execution_count": 49,
      "outputs": []
    },
    {
      "cell_type": "code",
      "source": [
        "# Load data\n",
        "data = pd.read_csv('/content/sample_data/train.csv')\n",
        "data = np.array(data)\n",
        "m, n = data.shape\n",
        "np.random.shuffle(data)"
      ],
      "metadata": {
        "id": "2loi8oXmLT27"
      },
      "execution_count": 50,
      "outputs": []
    },
    {
      "cell_type": "code",
      "source": [
        "# Split dataset\n",
        "data_dev = data[0:1000].T\n",
        "Y_dev = data_dev[0].astype(int)\n",
        "X_dev = data_dev[1:n] / 255.\n",
        "\n",
        "data_train = data[1000:m].T\n",
        "Y_train = data_train[0].astype(int)\n",
        "X_train = data_train[1:n] / 255."
      ],
      "metadata": {
        "id": "rQ9E7tbMLWcH"
      },
      "execution_count": 51,
      "outputs": []
    },
    {
      "cell_type": "code",
      "source": [
        "# Initialize parameters\n",
        "def init_params():\n",
        "    W1 = np.random.randn(10, 784) * 0.01\n",
        "    b1 = np.zeros((10, 1))\n",
        "    W2 = np.random.randn(10, 10) * 0.01\n",
        "    b2 = np.zeros((10, 1))\n",
        "    return W1, b1, W2, b2"
      ],
      "metadata": {
        "id": "FnKt2VQpLYNA"
      },
      "execution_count": 52,
      "outputs": []
    },
    {
      "cell_type": "code",
      "source": [
        "# Forward propagation\n",
        "def forward_prop(W1, b1, W2, b2, X):\n",
        "    Z1 = W1.dot(X) + b1\n",
        "    A1 = np.maximum(Z1, 0)\n",
        "    Z2 = W2.dot(A1) + b2\n",
        "    exp_scores = np.exp(Z2 - np.max(Z2, axis=0, keepdims=True))  # numerical stability\n",
        "    A2 = exp_scores / np.sum(exp_scores, axis=0, keepdims=True)\n",
        "    return Z1, A1, Z2, A2"
      ],
      "metadata": {
        "id": "NQAVVuSLLY4h"
      },
      "execution_count": 53,
      "outputs": []
    },
    {
      "cell_type": "code",
      "source": [
        "# One-hot encoding\n",
        "def one_hot(Y):\n",
        "    one_hot_Y = np.zeros((Y.max() + 1, Y.size))\n",
        "    one_hot_Y[Y, np.arange(Y.size)] = 1\n",
        "    return one_hot_Y"
      ],
      "metadata": {
        "id": "w9NQo2A5LbB5"
      },
      "execution_count": 54,
      "outputs": []
    },
    {
      "cell_type": "code",
      "source": [
        "# Backward propagation\n",
        "def backward_prop(Z1, A1, Z2, A2, W2, X, Y):\n",
        "    m = Y.size\n",
        "    one_hot_Y = one_hot(Y)\n",
        "    dZ2 = A2 - one_hot_Y\n",
        "    dW2 = (1/m) * dZ2.dot(A1.T)\n",
        "    db2 = (1/m) * np.sum(dZ2, axis=1, keepdims=True)\n",
        "    dA1 = W2.T.dot(dZ2)\n",
        "    dZ1 = dA1 * (Z1 > 0)\n",
        "    dW1 = (1/m) * dZ1.dot(X.T)\n",
        "    db1 = (1/m) * np.sum(dZ1, axis=1, keepdims=True)\n",
        "    return dW1, db1, dW2, db2"
      ],
      "metadata": {
        "id": "QhME7TPrLc8W"
      },
      "execution_count": 55,
      "outputs": []
    },
    {
      "cell_type": "code",
      "source": [
        "# Parameter update\n",
        "def update_params(W1, b1, W2, b2, dW1, db1, dW2, db2, alpha):\n",
        "    W1 -= alpha * dW1\n",
        "    b1 -= alpha * db1\n",
        "    W2 -= alpha * dW2\n",
        "    b2 -= alpha * db2\n",
        "    return W1, b1, W2, b2"
      ],
      "metadata": {
        "id": "8TuCuaE6Levj"
      },
      "execution_count": 56,
      "outputs": []
    },
    {
      "cell_type": "code",
      "source": [
        "# Predictions and accuracy\n",
        "def get_predictions(A2):\n",
        "    return np.argmax(A2, axis=0)\n",
        "\n",
        "def get_accuracy(predictions, Y):\n",
        "    return np.mean(predictions == Y)"
      ],
      "metadata": {
        "id": "b1khH4uVLh3P"
      },
      "execution_count": 57,
      "outputs": []
    },
    {
      "cell_type": "code",
      "source": [
        "# Training loop\n",
        "def gradient_descent(X, Y, alpha, iterations):\n",
        "    W1, b1, W2, b2 = init_params()\n",
        "    for i in range(iterations):\n",
        "        Z1, A1, Z2, A2 = forward_prop(W1, b1, W2, b2, X)\n",
        "        dW1, db1, dW2, db2 = backward_prop(Z1, A1, Z2, A2, W2, X, Y)\n",
        "        W1, b1, W2, b2 = update_params(W1, b1, W2, b2, dW1, db1, dW2, db2, alpha)\n",
        "\n",
        "        if i % 50 == 0:\n",
        "            predictions = get_predictions(A2)\n",
        "            accuracy = get_accuracy(predictions, Y)\n",
        "            print(f\"Iteration {i}: Accuracy {accuracy:.4f}\")\n",
        "    return W1, b1, W2, b2"
      ],
      "metadata": {
        "id": "Sfrx4EuDLjgg"
      },
      "execution_count": 58,
      "outputs": []
    },
    {
      "cell_type": "code",
      "source": [
        "# Train model\n",
        "W1, b1, W2, b2 = gradient_descent(X_train, Y_train, alpha=0.1, iterations=300)"
      ],
      "metadata": {
        "id": "-TaEX5SwLj77",
        "outputId": "e5696d69-219e-4dbe-b2bb-46add814fd97",
        "colab": {
          "base_uri": "https://localhost:8080/"
        }
      },
      "execution_count": 59,
      "outputs": [
        {
          "output_type": "stream",
          "name": "stdout",
          "text": [
            "Iteration 0: Accuracy 0.1551\n",
            "Iteration 50: Accuracy 0.4821\n",
            "Iteration 100: Accuracy 0.5669\n",
            "Iteration 150: Accuracy 0.7407\n",
            "Iteration 200: Accuracy 0.8082\n",
            "Iteration 250: Accuracy 0.8453\n"
          ]
        }
      ]
    },
    {
      "cell_type": "code",
      "source": [
        "def make_predictions(X, W1, b1, W2, b2):\n",
        "    _, _, _, A2 = forward_prop(W1, b1, W2, b2, X)\n",
        "    predictions = get_predictions(A2)\n",
        "    return predictions\n",
        "\n",
        "def test_prediction(index, W1, b1, W2, b2):\n",
        "    current_image = X_train[:, index, None]\n",
        "    prediction = make_predictions(X_train[:, index, None], W1, b1, W2, b2)\n",
        "    label = Y_train[index]\n",
        "    print(\"Prediction: \", prediction)\n",
        "    print(\"Label: \", label)\n",
        "\n",
        "    current_image = current_image.reshape((28, 28)) * 255\n",
        "    plt.gray()\n",
        "    plt.imshow(current_image, interpolation='nearest')\n",
        "    plt.show()"
      ],
      "metadata": {
        "id": "miYlENgpNnN9"
      },
      "execution_count": 60,
      "outputs": []
    },
    {
      "cell_type": "code",
      "source": [
        "test_prediction(0, W1, b1, W2, b2)\n",
        "test_prediction(1, W1, b1, W2, b2)\n",
        "test_prediction(2, W1, b1, W2, b2)\n",
        "test_prediction(3, W1, b1, W2, b2)"
      ],
      "metadata": {
        "colab": {
          "base_uri": "https://localhost:8080/",
          "height": 1000
        },
        "id": "Hx3mXQEbytmV",
        "outputId": "50774ed4-8b51-443a-9da4-4e6fd1c460ad"
      },
      "execution_count": 61,
      "outputs": [
        {
          "output_type": "stream",
          "name": "stdout",
          "text": [
            "Prediction:  [9]\n",
            "Label:  9\n"
          ]
        },
        {
          "output_type": "display_data",
          "data": {
            "text/plain": [
              "<Figure size 640x480 with 1 Axes>"
            ],
            "image/png": "[encoded data removed]"
          },
          "metadata": {}
        },
        {
          "output_type": "stream",
          "name": "stdout",
          "text": [
            "Prediction:  [4]\n",
            "Label:  4\n"
          ]
        },
        {
          "output_type": "display_data",
          "data": {
            "text/plain": [
              "<Figure size 640x480 with 1 Axes>"
            ],
            "image/png": "[encoded data removed]"
          },
          "metadata": {}
        },
        {
          "output_type": "stream",
          "name": "stdout",
          "text": [
            "Prediction:  [5]\n",
            "Label:  9\n"
          ]
        },
        {
          "output_type": "display_data",
          "data": {
            "text/plain": [
              "<Figure size 640x480 with 1 Axes>"
            ],
            "image/png": "[encoded data removed]"
          },
          "metadata": {}
        },
        {
          "output_type": "stream",
          "name": "stdout",
          "text": [
            "Prediction:  [8]\n",
            "Label:  8\n"
          ]
        },
        {
          "output_type": "display_data",
          "data": {
            "text/plain": [
              "<Figure size 640x480 with 1 Axes>"
            ],
            "image/png": "[encoded data removed]"
          },
          "metadata": {}
        }
      ]
    },
    {
      "cell_type": "code",
      "source": [
        "dev_predictions = make_predictions(X_dev, W1, b1, W2, b2)\n",
        "print(\"Accuracy: \",int(get_accuracy(dev_predictions, Y_dev) * 100),\"%\",sep='')"
      ],
      "metadata": {
        "colab": {
          "base_uri": "https://localhost:8080/"
        },
        "id": "yBQniJzuyvhk",
        "outputId": "53301dab-e747-4bdb-d65a-9b5287276796"
      },
      "execution_count": 62,
      "outputs": [
        {
          "output_type": "stream",
          "name": "stdout",
          "text": [
            "Accuracy: 86%\n"
          ]
        }
      ]
    }
  ],
  "metadata": {
    "colab": {
      "provenance": [],
      "gpuType": "T4"
    },
    "kernelspec": {
      "display_name": "Python 3",
      "name": "python3"
    },
    "accelerator": "GPU"
  },
  "nbformat": 4,
  "nbformat_minor": 0
}